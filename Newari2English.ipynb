{
  "nbformat": 4,
  "nbformat_minor": 0,
  "metadata": {
    "colab": {
      "provenance": [],
      "gpuType": "V28",
      "authorship_tag": "ABX9TyPIMx6HIbBGQ4tPKF1X1uMZ",
      "include_colab_link": true
    },
    "kernelspec": {
      "name": "python3",
      "display_name": "Python 3"
    },
    "language_info": {
      "name": "python"
    },
    "accelerator": "TPU"
  },
  "cells": [
    {
      "cell_type": "markdown",
      "metadata": {
        "id": "view-in-github",
        "colab_type": "text"
      },
      "source": [
        "<a href=\"https://colab.research.google.com/github/PrageshShrestha/Newari2English/blob/main/Newari2English.ipynb\" target=\"_parent\"><img src=\"https://colab.research.google.com/assets/colab-badge.svg\" alt=\"Open In Colab\"/></a>"
      ]
    },
    {
      "cell_type": "code",
      "execution_count": 2,
      "metadata": {
        "id": "l8D71vczFJhX",
        "colab": {
          "base_uri": "https://localhost:8080/"
        },
        "outputId": "364df40f-ad65-4ea9-95c2-ac1f9dd2e484"
      },
      "outputs": [
        {
          "output_type": "stream",
          "name": "stdout",
          "text": [
            "Requirement already satisfied: datasets in /usr/local/lib/python3.11/dist-packages (3.3.2)\n",
            "Requirement already satisfied: filelock in /usr/local/lib/python3.11/dist-packages (from datasets) (3.17.0)\n",
            "Requirement already satisfied: numpy>=1.17 in /usr/local/lib/python3.11/dist-packages (from datasets) (1.26.4)\n",
            "Requirement already satisfied: pyarrow>=15.0.0 in /usr/local/lib/python3.11/dist-packages (from datasets) (18.1.0)\n",
            "Requirement already satisfied: dill<0.3.9,>=0.3.0 in /usr/local/lib/python3.11/dist-packages (from datasets) (0.3.8)\n",
            "Requirement already satisfied: pandas in /usr/local/lib/python3.11/dist-packages (from datasets) (2.2.2)\n",
            "Requirement already satisfied: requests>=2.32.2 in /usr/local/lib/python3.11/dist-packages (from datasets) (2.32.3)\n",
            "Requirement already satisfied: tqdm>=4.66.3 in /usr/local/lib/python3.11/dist-packages (from datasets) (4.67.1)\n",
            "Requirement already satisfied: xxhash in /usr/local/lib/python3.11/dist-packages (from datasets) (3.5.0)\n",
            "Requirement already satisfied: multiprocess<0.70.17 in /usr/local/lib/python3.11/dist-packages (from datasets) (0.70.16)\n",
            "Requirement already satisfied: fsspec<=2024.12.0,>=2023.1.0 in /usr/local/lib/python3.11/dist-packages (from fsspec[http]<=2024.12.0,>=2023.1.0->datasets) (2024.10.0)\n",
            "Requirement already satisfied: aiohttp in /usr/local/lib/python3.11/dist-packages (from datasets) (3.11.13)\n",
            "Requirement already satisfied: huggingface-hub>=0.24.0 in /usr/local/lib/python3.11/dist-packages (from datasets) (0.28.1)\n",
            "Requirement already satisfied: packaging in /usr/local/lib/python3.11/dist-packages (from datasets) (24.2)\n",
            "Requirement already satisfied: pyyaml>=5.1 in /usr/local/lib/python3.11/dist-packages (from datasets) (6.0.2)\n",
            "Requirement already satisfied: aiohappyeyeballs>=2.3.0 in /usr/local/lib/python3.11/dist-packages (from aiohttp->datasets) (2.4.6)\n",
            "Requirement already satisfied: aiosignal>=1.1.2 in /usr/local/lib/python3.11/dist-packages (from aiohttp->datasets) (1.3.2)\n",
            "Requirement already satisfied: attrs>=17.3.0 in /usr/local/lib/python3.11/dist-packages (from aiohttp->datasets) (25.1.0)\n",
            "Requirement already satisfied: frozenlist>=1.1.1 in /usr/local/lib/python3.11/dist-packages (from aiohttp->datasets) (1.5.0)\n",
            "Requirement already satisfied: multidict<7.0,>=4.5 in /usr/local/lib/python3.11/dist-packages (from aiohttp->datasets) (6.1.0)\n",
            "Requirement already satisfied: propcache>=0.2.0 in /usr/local/lib/python3.11/dist-packages (from aiohttp->datasets) (0.3.0)\n",
            "Requirement already satisfied: yarl<2.0,>=1.17.0 in /usr/local/lib/python3.11/dist-packages (from aiohttp->datasets) (1.18.3)\n",
            "Requirement already satisfied: typing-extensions>=3.7.4.3 in /usr/local/lib/python3.11/dist-packages (from huggingface-hub>=0.24.0->datasets) (4.12.2)\n",
            "Requirement already satisfied: charset-normalizer<4,>=2 in /usr/local/lib/python3.11/dist-packages (from requests>=2.32.2->datasets) (3.4.1)\n",
            "Requirement already satisfied: idna<4,>=2.5 in /usr/local/lib/python3.11/dist-packages (from requests>=2.32.2->datasets) (3.10)\n",
            "Requirement already satisfied: urllib3<3,>=1.21.1 in /usr/local/lib/python3.11/dist-packages (from requests>=2.32.2->datasets) (2.3.0)\n",
            "Requirement already satisfied: certifi>=2017.4.17 in /usr/local/lib/python3.11/dist-packages (from requests>=2.32.2->datasets) (2025.1.31)\n",
            "Requirement already satisfied: python-dateutil>=2.8.2 in /usr/local/lib/python3.11/dist-packages (from pandas->datasets) (2.8.2)\n",
            "Requirement already satisfied: pytz>=2020.1 in /usr/local/lib/python3.11/dist-packages (from pandas->datasets) (2025.1)\n",
            "Requirement already satisfied: tzdata>=2022.7 in /usr/local/lib/python3.11/dist-packages (from pandas->datasets) (2025.1)\n",
            "Requirement already satisfied: six>=1.5 in /usr/local/lib/python3.11/dist-packages (from python-dateutil>=2.8.2->pandas->datasets) (1.17.0)\n"
          ]
        }
      ],
      "source": [
        "!pip install datasets\n",
        "import torch\n",
        "import torch.nn as nn\n",
        "import torch.nn.functional as F\n",
        "from torch.nn.utils.rnn import pad_sequence, pack_padded_sequence , pad_packed_sequence\n",
        "import os\n",
        "import math\n",
        "from transformers import BertModel, AutoModel, BertTokenizer, AutoTokenizer\n",
        "from google.colab import drive\n",
        "from datasets import load_dataset\n"
      ]
    },
    {
      "cell_type": "code",
      "source": [
        "device = \"cuda\" if torch.cuda.is_available() else \"cpu\"\n",
        "torch.set_default_device(device)\n",
        "config = {\n",
        "    \"embedding_dims\":768,\n",
        "    \"vocab_size\":30522,\n",
        "    \"nep_vocab_size\":50000,\n",
        "    \"hidden_size\":1024,\n",
        "    \"epoches\":10,\n",
        "    \"dropout\":0.3,\n",
        "    \"batch_size\":15,\n",
        "    \"max_seq_length\":50,\n",
        "    \"num_layers\":5,\n",
        "    \"num_heads\":2,\n",
        "    \"device\":device,\n",
        "}"
      ],
      "metadata": {
        "id": "TdPxjgEpF2nR"
      },
      "execution_count": 3,
      "outputs": []
    },
    {
      "cell_type": "code",
      "source": [
        "\n",
        "# Load dataset\n",
        "ds = load_dataset(\"Unspoiled-Egg/indigenous-eng-translation\")\n",
        "\n",
        "# Load tokenizers\n",
        "bert_tokenizer = BertTokenizer.from_pretrained(\"bert-base-uncased\")  # English BERT\n",
        "nepali_tokenizer = AutoTokenizer.from_pretrained(\"Rajan/NepaliBERT\")  # NepaliBERT for Newari\n",
        "bert_en = BertModel.from_pretrained(\"bert-base-uncased\")\n",
        "bert_ne = AutoModel.from_pretrained(\"Rajan/NepaliBERT\")\n",
        "def get_tokens(sentence, tokenizer, return_details=False):\n",
        "    tokens = tokenizer.tokenize(sentence)\n",
        "\n",
        "    # Convert to token IDs\n",
        "    token_ids = tokenizer.encode(sentence, add_special_tokens=True)  # Adds [CLS] and [SEP]\n",
        "\n",
        "    if return_details:\n",
        "        token_id_pairs = list(zip(tokens, token_ids[1:-1]))  # Exclude [CLS] and [SEP] for mapping\n",
        "        return {\n",
        "            \"tokens\": tokens,\n",
        "            \"token_ids\": token_ids,\n",
        "            \"token_id_pairs\": token_id_pairs,\n",
        "            \"decoded\": tokenizer.decode(token_ids, skip_special_tokens=True)\n",
        "        }\n",
        "    return token_ids\n",
        "\n",
        "# Function to get embeddings as a tensor of shape (seq_len, embedding_dim)\n",
        "def get_initial_embedding(sentence, tokenizer, model):\n",
        "    # Tokenize and get token IDs\n",
        "    token_ids = tokenizer.encode(sentence, add_special_tokens=True)\n",
        "    token_tensor = torch.tensor([token_ids])  # Shape: (1, seq_len)\n",
        "\n",
        "    with torch.no_grad():\n",
        "        embeddings = model.get_input_embeddings()(token_tensor)  # Shape: (1, seq_len, embedding_dim)\n",
        "\n",
        "    return embeddings.squeeze(0)\n",
        "\n",
        "# Load models\n",
        "bert_en = BertModel.from_pretrained(\"bert-base-uncased\")\n",
        "bert_ne = AutoModel.from_pretrained(\"Rajan/NepaliBERT\")\n",
        "\n",
        "# Initialize storage\n",
        "dataset_tokens = []\n",
        "dataset_raw = []\n",
        "\n",
        "# Process the first 30 entries from the dataset\n",
        "for i in range(len(ds[\"train\"])):  # Ensure not going out of range\n",
        "    item = ds[\"train\"][i]  # Get the i-th entry from the \"train\" dataset\n",
        "\n",
        "    # Access the 'translation' dictionary and extract the 'new' and 'en' values\n",
        "    en_new = item[\"translation\"]\n",
        "\n",
        "\n",
        "    # Now, we can access 'new' and 'en' safely\n",
        "    dataset_raw.append((en_new[\"new\"], en_new[\"en\"]))  # Append 'new' and 'en' columns\n",
        "\n",
        "    # Get embeddings for English and Nepali\n",
        "    #bert_tokens = get_initial_embedding(en_new[\"en\"], bert_tokenizer, bert_en)\n",
        "    #nepali_tokens = get_initial_embedding(en_new[\"new\"], nepali_tokenizer, bert_ne)\n",
        "    bert_tokens = get_tokens(en_new[\"en\"], bert_tokenizer)\n",
        "    nepali_tokens = get_tokens(en_new[\"new\"], nepali_tokenizer)\n",
        "\n",
        "    # Get token IDs for English\n",
        "    tokens_en = get_tokens(en_new[\"en\"], bert_tokenizer, return_details=True).get(\"token_ids\")\n",
        "\n",
        "    dataset_tokens.append((nepali_tokens, bert_tokens, tokens_en))\n",
        "\n"
      ],
      "metadata": {
        "id": "0nOCYhccF8Cd",
        "colab": {
          "base_uri": "https://localhost:8080/"
        },
        "outputId": "9c90b909-f312-463e-b857-00ec9226b972"
      },
      "execution_count": 4,
      "outputs": [
        {
          "output_type": "stream",
          "name": "stderr",
          "text": [
            "/usr/local/lib/python3.11/dist-packages/huggingface_hub/utils/_auth.py:94: UserWarning: \n",
            "The secret `HF_TOKEN` does not exist in your Colab secrets.\n",
            "To authenticate with the Hugging Face Hub, create a token in your settings tab (https://huggingface.co/settings/tokens), set it as secret in your Google Colab and restart your session.\n",
            "You will be able to reuse this secret in all of your notebooks.\n",
            "Please note that authentication is recommended but still optional to access public models or datasets.\n",
            "  warnings.warn(\n",
            "Some weights of BertModel were not initialized from the model checkpoint at Rajan/NepaliBERT and are newly initialized: ['bert.pooler.dense.bias', 'bert.pooler.dense.weight']\n",
            "You should probably TRAIN this model on a down-stream task to be able to use it for predictions and inference.\n",
            "Some weights of BertModel were not initialized from the model checkpoint at Rajan/NepaliBERT and are newly initialized: ['bert.pooler.dense.bias', 'bert.pooler.dense.weight']\n",
            "You should probably TRAIN this model on a down-stream task to be able to use it for predictions and inference.\n"
          ]
        }
      ]
    },
    {
      "cell_type": "markdown",
      "source": [
        "![newtransformer.PNG](data:image/png;base64,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)"
      ],
      "metadata": {
        "id": "lLPm5op3LewU"
      }
    },
    {
      "cell_type": "markdown",
      "source": [
        "SOURCE OF DIAGRAM : extension://bfdogplmndidlpjfhoijckpakkdjkkil/pdf/viewer.html?file=https%3A%2F%2Farxiv.org%2Fpdf%2F2210.06423"
      ],
      "metadata": {
        "id": "cz0d-r2UL03A"
      }
    },
    {
      "cell_type": "code",
      "source": [
        "# Mount Google Drive\n",
        "drive.mount('/content/drive')\n",
        "\n",
        "# Path to save model\n",
        "MODEL_PATH = \"/content/drive/MyDrive/transformer_SAMPLE.pth\"\n",
        "\n",
        "def save_model(model, loss, model_path = MODEL_PATH):\n",
        "\n",
        "    torch.save(model.state_dict(), model_path)  # Saves model's state_dict instead of full model\n",
        "    print(f\"Model saved with loss: {loss:.5f}\")\n",
        "\n",
        "def load_model( model_path=MODEL_PATH, config=None):\n",
        "    model = Transformer(config)\n",
        "    \"\"\"\n",
        "    if os.path.exists(model_path):\n",
        "        model.load_state_dict(torch.load(model_path))\n",
        "        model.eval()\n",
        "        print(\"Loaded existing model from Drive.\")\n",
        "    else:\n",
        "        print(\"No existing model found. Training a new one.\")\n",
        "        model = Transformer()\n",
        "    \"\"\"\n",
        "    return model"
      ],
      "metadata": {
        "id": "n1eJ37whfZys",
        "colab": {
          "base_uri": "https://localhost:8080/"
        },
        "outputId": "4ed93ed9-7773-44b0-d15a-ef1eb6944db9"
      },
      "execution_count": 5,
      "outputs": [
        {
          "output_type": "stream",
          "name": "stdout",
          "text": [
            "Drive already mounted at /content/drive; to attempt to forcibly remount, call drive.mount(\"/content/drive\", force_remount=True).\n"
          ]
        }
      ]
    },
    {
      "cell_type": "code",
      "source": [
        "class Transformer(nn.Module):\n",
        "  def __init__(self,config=config):\n",
        "    super().__init__()\n",
        "    self.config = config\n",
        "    self.embedding = nn.Embedding(num_embeddings = int(self.config[\"vocab_size\"]+10) , embedding_dim = self.config[\"embedding_dims\"])\n",
        "    self.embedding_nep = nn.Embedding(num_embeddings = self.config[\"nep_vocab_size\"] , embedding_dim = self.config[\"embedding_dims\"])\n",
        "    self.layer_norm = nn.RMSNorm(self.config[\"embedding_dims\"])\n",
        "    self.linear = nn.Linear(self.config[\"embedding_dims\"] , self.config[\"hidden_size\"])\n",
        "    self.dropout = nn.Dropout(self.config[\"dropout\"])\n",
        "    self.attention = nn.MultiheadAttention(self.config[\"hidden_size\"] , num_heads = self.config[\"num_heads\"] , batch_first = True)\n",
        "    self.layer_norm2 = nn.RMSNorm(self.config[\"hidden_size\"])\n",
        "    self.relu = F.relu\n",
        "    self.attention2 = nn.MultiheadAttention(self.config[\"embedding_dims\"] , num_heads = 2 , batch_first = True)\n",
        "\n",
        "    self.linear2 = nn.Linear(self.config[\"hidden_size\"] , self.config[\"embedding_dims\"])\n",
        "  def first_block_encoder(self , x):\n",
        "    x = self.layer_norm(x)\n",
        "    x = self.linear(x)\n",
        "    x , _ = self.attention(x,x,x)\n",
        "    x = self.dropout(x)\n",
        "    x = self.layer_norm2(x)\n",
        "    x = self.linear2(x)\n",
        "    return x\n",
        "  def second_block_encoder(self,x):\n",
        "    x = self.layer_norm(x)\n",
        "    x = self.linear(x)\n",
        "    x = self.relu(x)\n",
        "    x = self.layer_norm2(x)\n",
        "    x =self.linear2(x)\n",
        "    return x\n",
        "  def second_block_decoder(self,x,encoder_output):\n",
        "    x = self.layer_norm(x)\n",
        "    x = self.linear(x)\n",
        "    encoder_output = self.linear(encoder_output)\n",
        "    #print(encoder_output.shape , x.shape)\n",
        "    x , _ = self.attention(x , encoder_output , encoder_output)\n",
        "    x = self.linear2(x)\n",
        "    return x\n",
        "  def temp_forward(self , input_encoder , input_decoder):\n",
        "\n",
        "    #encoder input\n",
        "    out_en_1 = self.first_block_encoder(input_encoder)\n",
        "    out_en_1 = torch.add(out_en_1 , input_encoder)\n",
        "    out_en_2 = self.second_block_encoder(out_en_1)\n",
        "    out_en = torch.add(out_en_2 , out_en_1)\n",
        "    #out_en = pad_packed_sequence(out_en , seq_len_encoder , batch_first = True , enforce_sorted = False)\n",
        "    #decoder input turn\n",
        "    out_de_1 = self.first_block_encoder(input_decoder)\n",
        "    out_de_1 = torch.add(out_de_1 , input_decoder)\n",
        "    #attention block / inputs mix\n",
        "    #print(out_de_1.shape , out_en.shape)\n",
        "    out_de_2 = self.second_block_decoder(out_de_1 , out_en)\n",
        "    out_de = torch.add(out_de_2 , out_de_1)\n",
        "    out_de_actual = self.second_block_encoder(out_de)\n",
        "    out_de_actual = torch.add(out_de_actual , out_de)\n",
        "    out_de_actual= nn.Linear(self.config[\"embedding_dims\"] , self.config[\"vocab_size\"])(out_de_actual)\n",
        "    #original_shaped = pad_packed_sequence(out_de_actual ,seq_len_decoder, batch_first = True , enforce_sorted = False)\n",
        "    #print(\"this is original output from model \")\n",
        "    #print(original_shaped , original_shaped.shape)\n",
        "    return out_de_actual\n",
        "\n",
        "  def forward(self , input_encoder , input_decoder):\n",
        "    #print(input_encoder , input_decoder)\n",
        "    #print(input_encoder.shape , input_decoder.shape)\n",
        "    input_encoder = self.embedding_nep(input_encoder)\n",
        "    input_decoder = self.embedding(input_decoder)\n",
        "    seq_len = input_decoder.size(1)\n",
        "    \"\"\"\n",
        "    #print(input_encoder)\n",
        "    seq_lengths_encoder = (input_encoder.abs().sum(dim=2) > 1e-6).sum(dim=1)\n",
        "    seq_lengths_decoder = (input_decoder.abs().sum(dim=2) > 1e-6).sum(dim=1)\n",
        "\n",
        "    print(seq_lengths_encoder , seq_lengths_decoder)\n",
        "    try:\n",
        "      some_type = pack_padded_sequence(input_encoder , seq_lengths_encoder , batch_first = True , enforce_sorted = False)\n",
        "      input_encoder = some_type[0]\n",
        "      batch_encoder = some_type[1]\n",
        "      some_type2 = pack_padded_sequence(input_decoder , seq_lengths_decoder , batch_first = True , enforce_sorted = False)\n",
        "      input_decoder = some_type2[0]\n",
        "\n",
        "      print(input_encoder.shape)\n",
        "    except:\n",
        "      pass\n",
        "    \"\"\"\n",
        "    key_padding_mask_encoder = (input_encoder == 0 ).any(dim=-1)\n",
        "    key_padding_mask_decoder = (input_decoder == 0 ).any(dim=-1)\n",
        "\n",
        "    input_encoder , _ = self.attention2(input_encoder,input_encoder , input_encoder , key_padding_mask = key_padding_mask_encoder)\n",
        "    input_decoder , _ = self.attention2(input_decoder , input_decoder , input_decoder , key_padding_mask = key_padding_mask_decoder)\n",
        "\n",
        "    decoder_output = []\n",
        "\n",
        "    for i in range(1,seq_len):\n",
        "\n",
        "      input_decoder_temp = input_decoder[:,i,:]\n",
        "      input_decoder_temp = input_decoder_temp.unsqueeze(1)\n",
        "      #print(input_decoder_temp.shape)\n",
        "\n",
        "      idt = input_decoder_temp.float()\n",
        "      #print(idt.shape)\n",
        "      output = self.temp_forward(input_encoder , idt)\n",
        "      #print(f\" this is the output{output.shape}\")\n",
        "      decoder_output.append(output)\n",
        "      #print(output)\n",
        "      #print(\"next\")\n",
        "    #print(seq_len)\n",
        "    decoder_outputs = sum(decoder_output)\n",
        "    #print(decoder_outputs.shape)\n",
        "    return decoder_outputs"
      ],
      "metadata": {
        "id": "SBixo2ssF-wm"
      },
      "execution_count": 6,
      "outputs": []
    },
    {
      "cell_type": "code",
      "source": [
        "# Mount Google Drive\n",
        "drive.mount('/content/drive')\n",
        "\n",
        "# Path to save model\n",
        "MODEL_PATH = \"/content/drive/MyDrive/transformer_new.pth\"\n",
        "\n",
        "def train(dataset=dataset_tokens[:10] , config = config):\n",
        "\n",
        "    device = \"cuda\" if torch.cuda.is_available() else \"cpu\"\n",
        "\n",
        "    model = load_model(model_path=MODEL_PATH, config=config)\n",
        "\n",
        "    bert_en = BertModel.from_pretrained(\"bert-base-uncased\")\n",
        "    bert_ne = AutoModel.from_pretrained(\"Rajan/NepaliBERT\")\n",
        "    tokenizer_en = AutoTokenizer.from_pretrained(\"bert-base-uncased\")\n",
        "    tokenizer_ne = AutoTokenizer.from_pretrained(\"Rajan/NepaliBERT\")\n",
        "\n",
        "    optimizer = torch.optim.SGD(model.parameters(),lr = 0.02)\n",
        "\n",
        "    criterion = nn.MSELoss()\n",
        "    model = Transformer()\n",
        "    batch_size = config[\"batch_size\"]\n",
        "    for epoch in range(config[\"epoches\"]):\n",
        "        #model.train()\n",
        "        for i in range(0, len(dataset), batch_size):\n",
        "            batch = dataset[i:i + batch_size]\n",
        "            #print(i,i+batch_size)\n",
        "            #print(batch[0] , batch[1] , batch[2] , sep=\"\\n\")\n",
        "            newari_ids = torch.nn.utils.rnn.pad_sequence(\n",
        "                [torch.tensor(item[0], dtype=torch.long) for item in batch], batch_first=True, padding_value=0)\n",
        "            english_ids = torch.nn.utils.rnn.pad_sequence(\n",
        "                [torch.tensor(item[1], dtype=torch.long) for item in batch], batch_first=True, padding_value=0)\n",
        "\n",
        "            target_ids = torch.nn.utils.rnn.pad_sequence(\n",
        "                [torch.tensor(item[2], dtype=torch.long) for item in batch], batch_first=True, padding_value=0)\n",
        "            #print(newari_ids)\n",
        "            # Forward pass through the model\n",
        "\n",
        "            logits = model(newari_ids, english_ids)\n",
        "            print(\"next\")\n",
        "            # Reshape logits and targets for CrossEntropyLoss\n",
        "            #logits = logits.view(-1, config[\"vocab_size\"])  # Flatten logits to match vocab_size\n",
        "            #targets = target_ids.view(-1)  # Flatten targets for matching with logits\n",
        "\n",
        "            # Ensure targets are within the range [0, vocab_size-1]\n",
        "            #if targets.max() >= config[\"vocab_size\"]:\n",
        "                #print(f\"Warning: Target value exceeds vocab_size: {targets.max()}\")\n",
        "            target_ids = F.one_hot(target_ids, num_classes=config[\"vocab_size\"]).float()\n",
        "            #print(logits.shape , target_ids.shape )\n",
        "            loss = criterion(logits, target_ids)\n",
        "\n",
        "            optimizer.zero_grad()\n",
        "            loss.backward()\n",
        "            optimizer.step()\n",
        "        print(f\"Epoch {epoch} - Loss: {loss.item():.8f}\")\n",
        "\n",
        "    save_model(model, loss.item())\n",
        "\n",
        "train()"
      ],
      "metadata": {
        "id": "Zxx4QfzeU9t8",
        "colab": {
          "base_uri": "https://localhost:8080/"
        },
        "outputId": "2d90bffa-84fb-435b-e84c-a7377327554b"
      },
      "execution_count": null,
      "outputs": [
        {
          "output_type": "stream",
          "name": "stdout",
          "text": [
            "Drive already mounted at /content/drive; to attempt to forcibly remount, call drive.mount(\"/content/drive\", force_remount=True).\n"
          ]
        },
        {
          "output_type": "stream",
          "name": "stderr",
          "text": [
            "Some weights of BertModel were not initialized from the model checkpoint at Rajan/NepaliBERT and are newly initialized: ['bert.pooler.dense.bias', 'bert.pooler.dense.weight']\n",
            "You should probably TRAIN this model on a down-stream task to be able to use it for predictions and inference.\n"
          ]
        },
        {
          "output_type": "stream",
          "name": "stdout",
          "text": [
            "next\n"
          ]
        },
        {
          "output_type": "stream",
          "name": "stderr",
          "text": [
            "/usr/local/lib/python3.11/dist-packages/torch/nn/modules/loss.py:608: UserWarning: Using a target size (torch.Size([10, 39, 30522])) that is different to the input size (torch.Size([10, 1, 30522])). This will likely lead to incorrect results due to broadcasting. Please ensure they have the same size.\n",
            "  return F.mse_loss(input, target, reduction=self.reduction)\n"
          ]
        },
        {
          "output_type": "stream",
          "name": "stdout",
          "text": [
            "Epoch 0 - Loss: 9.38314056\n"
          ]
        }
      ]
    },
    {
      "cell_type": "code",
      "source": [],
      "metadata": {
        "id": "4cUJh7oQviW8"
      },
      "execution_count": null,
      "outputs": []
    }
  ]
}